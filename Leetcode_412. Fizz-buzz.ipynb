{
 "cells": [
  {
   "cell_type": "code",
   "execution_count": 1,
   "metadata": {},
   "outputs": [],
   "source": [
    "n = 15"
   ]
  },
  {
   "cell_type": "code",
   "execution_count": 5,
   "metadata": {},
   "outputs": [],
   "source": [
    "class Solution:\n",
    "    def fizzBuzz(self, n):\n",
    "        answer = []\n",
    "        \n",
    "        for i in range(1, n+1):\n",
    "            if i%3 == 0 and i%5 == 0:\n",
    "                answer.append(\"FizzBuzz\")\n",
    "            elif i%5 == 0:\n",
    "                answer.append(\"Buzz\")\n",
    "            elif i%3 == 0: \n",
    "                answer.append(\"Fizz\")\n",
    "            else: \n",
    "                answer.append(str(i))\n",
    "        return answer\n",
    "        "
   ]
  },
  {
   "cell_type": "markdown",
   "metadata": {},
   "source": [
    "- leetcode 제시 예시 "
   ]
  },
  {
   "cell_type": "code",
   "execution_count": 7,
   "metadata": {},
   "outputs": [],
   "source": [
    "class Solution:\n",
    "    def fizzBuzz(self, n):\n",
    "        \"\"\"\n",
    "        :type n: int\n",
    "        :rtype: List[str]\n",
    "        \"\"\"\n",
    "        # ans list\n",
    "        ans = []\n",
    "\n",
    "        for num in range(1,n+1):\n",
    "\n",
    "            divisible_by_3 = (num % 3 == 0)\n",
    "            divisible_by_5 = (num % 5 == 0)\n",
    "\n",
    "            if divisible_by_3 and divisible_by_5:\n",
    "                # Divides by both 3 and 5, add FizzBuzz\n",
    "                ans.append(\"FizzBuzz\")\n",
    "            elif divisible_by_3:\n",
    "                # Divides by 3, add Fizz\n",
    "                ans.append(\"Fizz\")\n",
    "            elif divisible_by_5:\n",
    "                # Divides by 5, add Buzz\n",
    "                ans.append(\"Buzz\")\n",
    "            else:\n",
    "                # Not divisible by 3 or 5, add the number\n",
    "                ans.append(str(num))\n",
    "\n",
    "        return ans"
   ]
  },
  {
   "cell_type": "code",
   "execution_count": null,
   "metadata": {},
   "outputs": [],
   "source": []
  }
 ],
 "metadata": {
  "kernelspec": {
   "display_name": "Python 3",
   "language": "python",
   "name": "python3"
  },
  "language_info": {
   "codemirror_mode": {
    "name": "ipython",
    "version": 3
   },
   "file_extension": ".py",
   "mimetype": "text/x-python",
   "name": "python",
   "nbconvert_exporter": "python",
   "pygments_lexer": "ipython3",
   "version": "3.8.5"
  },
  "vp": {
   "base_numbering": 1,
   "nav_menu": {},
   "number_sections": true,
   "sideBar": true,
   "title_cell": "VisualPython",
   "title_sidebar": "VisualPython",
   "vpPosition": {
    "height": "calc(100% - 180px)",
    "right": "10px",
    "top": "110px",
    "width": "50%"
   },
   "vp_cell": false,
   "vp_section_display": true,
   "vp_window_display": false
  }
 },
 "nbformat": 4,
 "nbformat_minor": 4
}
