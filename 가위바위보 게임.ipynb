{
 "cells": [
  {
   "cell_type": "code",
   "execution_count": 1,
   "metadata": {},
   "outputs": [
    {
     "name": "stdout",
     "output_type": "stream",
     "text": [
      "Enter your choice (rock/paper/scissors): rock\n",
      "You lost.\n",
      "Finish? Yes or No: scissors\n",
      "Enter your choice (rock/paper/scissors): scissors\n",
      "You lost.\n",
      "Finish? Yes or No: scissors\n",
      "Enter your choice (rock/paper/scissors): \n",
      "Enter your choice (rock/paper/scissors): scissors\n",
      "You lost.\n",
      "Finish? Yes or No: rock\n",
      "Enter your choice (rock/paper/scissors): scissorxz\n",
      "Enter your choice (rock/paper/scissors): scissors\n",
      "You won.\n",
      "Finish? Yes or No: no\n",
      "Enter your choice (rock/paper/scissors): rock\n",
      "You lost.\n",
      "Finish? Yes or No: No\n",
      "Enter your choice (rock/paper/scissors): paper\n",
      "You won.\n",
      "Finish? Yes or No: Yes\n",
      "See you again.\n"
     ]
    }
   ],
   "source": [
    "import random\n",
    "\n",
    "\n",
    "play = True\n",
    "while play :\n",
    "\n",
    "    #player_choice\n",
    "    player = input(\"Enter your choice (rock/paper/scissors): \")\n",
    "    player = player.lower()\n",
    "    while (player != \"rock\" and player != \"paper\" and player != \"scissors\"):\n",
    "        player = input(\"Enter your choice (rock/paper/scissors): \")\n",
    "        player = player.lower()\n",
    "\n",
    "    #computer_random\n",
    "    computer = random.randint(1,3)\n",
    "    if (computer == 1):\n",
    "        computer = \"rock\"\n",
    "    elif (computer == 2):\n",
    "        computer = \"paper\"\n",
    "    elif (computer == 3):\n",
    "        computer = \"scissors\"\n",
    "    else:\n",
    "        print (\"Error. Enter your choice from rock, paper, scissors.\")\n",
    "\n",
    "    #result\n",
    "    if (player == computer):\n",
    "        print (\"Draw!\")\n",
    "    elif (player == \"rock\"):\n",
    "        if (computer == \"paper\"):\n",
    "            print (\"You won.\");\n",
    "        if (computer == \"scissors\"):\n",
    "            print (\"You lost.\");\n",
    "    elif (player == \"paper\"):\n",
    "        if (computer == \"rock\"):\n",
    "            print (\"You won.\");\n",
    "        if (computer == \"scissors\"):\n",
    "            print (\"You lost.\");\n",
    "    elif (player == \"scissors\"):\n",
    "        if (computer == \"rock\"):\n",
    "            print (\"You lost.\");\n",
    "        if (computer == \"paper\"):\n",
    "            print (\"You won.\");\n",
    "\n",
    "    #restart\n",
    "    userInput = input(\"Finish? Yes or No: \")\n",
    "    userInput = userInput.lower()\n",
    "    if (userInput == \"yes\"):\n",
    "        play = False\n",
    "        print (\"See you again.\")\n",
    "    else:\n",
    "        play = True"
   ]
  },
  {
   "cell_type": "code",
   "execution_count": null,
   "metadata": {},
   "outputs": [],
   "source": []
  }
 ],
 "metadata": {
  "kernelspec": {
   "display_name": "Python 3",
   "language": "python",
   "name": "python3"
  },
  "language_info": {
   "codemirror_mode": {
    "name": "ipython",
    "version": 3
   },
   "file_extension": ".py",
   "mimetype": "text/x-python",
   "name": "python",
   "nbconvert_exporter": "python",
   "pygments_lexer": "ipython3",
   "version": "3.8.3"
  },
  "vp": {
   "base_numbering": 1,
   "nav_menu": {},
   "number_sections": true,
   "sideBar": true,
   "title_cell": "VisualPython",
   "title_sidebar": "VisualPython",
   "vpPosition": {
    "height": "calc(100% - 180px)",
    "right": "10px",
    "top": "110px",
    "width": "50%"
   },
   "vp_cell": false,
   "vp_section_display": true,
   "vp_window_display": false
  }
 },
 "nbformat": 4,
 "nbformat_minor": 4
}
